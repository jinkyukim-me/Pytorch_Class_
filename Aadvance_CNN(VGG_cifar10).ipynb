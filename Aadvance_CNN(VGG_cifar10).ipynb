{
  "nbformat": 4,
  "nbformat_minor": 0,
  "metadata": {
    "kernelspec": {
      "name": "python3",
      "display_name": "Python 3"
    },
    "language_info": {
      "codemirror_mode": {
        "name": "ipython",
        "version": 3
      },
      "file_extension": ".py",
      "mimetype": "text/x-python",
      "name": "python",
      "nbconvert_exporter": "python",
      "pygments_lexer": "ipython3",
      "version": "3.6.8"
    },
    "colab": {
      "name": "Aadvance-CNN(VGG_cifar10).ipynb",
      "provenance": [],
      "include_colab_link": true
    },
    "accelerator": "GPU"
  },
  "cells": [
    {
      "cell_type": "markdown",
      "metadata": {
        "id": "view-in-github",
        "colab_type": "text"
      },
      "source": [
        "<a href=\"https://colab.research.google.com/github/jinkyukim-me/Pytorch_Class_/blob/master/Aadvance_CNN(VGG_cifar10).ipynb\" target=\"_parent\"><img src=\"https://colab.research.google.com/assets/colab-badge.svg\" alt=\"Open In Colab\"/></a>"
      ]
    },
    {
      "cell_type": "markdown",
      "metadata": {
        "id": "fsvtxPvrMRUF",
        "colab_type": "text"
      },
      "source": [
        "# 10-5 VGG for cifar10\n",
        "\n",
        "## original code is =>\n",
        "https://pytorch.org/tutorials/beginner/blitz/cifar10_tutorial.html#sphx-glr-beginner-blitz-cifar10-tutorial-py"
      ]
    },
    {
      "cell_type": "code",
      "metadata": {
        "id": "eZfCKlNyMRUH",
        "colab_type": "code",
        "colab": {}
      },
      "source": [
        "import torch\n",
        "import torch.nn as nn\n",
        "\n",
        "import torch.optim as optim\n",
        "\n",
        "import torchvision\n",
        "import torchvision.transforms as transforms"
      ],
      "execution_count": 0,
      "outputs": []
    },
    {
      "cell_type": "code",
      "metadata": {
        "scrolled": false,
        "id": "KIEBC2HwMRUL",
        "colab_type": "code",
        "colab": {}
      },
      "source": [
        "# import visdom\n",
        "\n",
        "# vis = visdom.Visdom()\n",
        "# vis.close(env=\"main\")"
      ],
      "execution_count": 0,
      "outputs": []
    },
    {
      "cell_type": "markdown",
      "metadata": {
        "id": "2w7nXgjdMRUP",
        "colab_type": "text"
      },
      "source": [
        "## define loss tracker"
      ]
    },
    {
      "cell_type": "code",
      "metadata": {
        "id": "2brfKIwsMRUR",
        "colab_type": "code",
        "colab": {}
      },
      "source": [
        "def loss_tracker(loss_plot, loss_value, num):\n",
        "    '''num, loss_value, are Tensor'''\n",
        "    vis.line(X=num,\n",
        "             Y=loss_value,\n",
        "             win = loss_plot,\n",
        "             update='append'\n",
        "             )"
      ],
      "execution_count": 0,
      "outputs": []
    },
    {
      "cell_type": "code",
      "metadata": {
        "id": "Sr1v7x8DMRUX",
        "colab_type": "code",
        "colab": {}
      },
      "source": [
        "device = 'cuda' if torch.cuda.is_available() else 'cpu'\n",
        "\n",
        "torch.manual_seed(777)\n",
        "if device =='cuda':\n",
        "    torch.cuda.manual_seed_all(777)"
      ],
      "execution_count": 0,
      "outputs": []
    },
    {
      "cell_type": "code",
      "metadata": {
        "id": "20niFmlWMRUd",
        "colab_type": "code",
        "colab": {
          "base_uri": "https://localhost:8080/",
          "height": 51
        },
        "outputId": "e37c1901-ca15-4a08-b4dc-56c1cf0d4e2b"
      },
      "source": [
        "transform = transforms.Compose(\n",
        "    [transforms.ToTensor(),\n",
        "     transforms.Normalize((0.5, 0.5, 0.5), (0.5, 0.5, 0.5))])\n",
        "\n",
        "trainset = torchvision.datasets.CIFAR10(root='./cifar10', train=True,\n",
        "                                        download=True, transform=transform)\n",
        "trainloader = torch.utils.data.DataLoader(trainset, batch_size=512,\n",
        "                                          shuffle=True, num_workers=0)\n",
        "\n",
        "testset = torchvision.datasets.CIFAR10(root='./cifar10', train=False,\n",
        "                                       download=True, transform=transform)\n",
        "\n",
        "testloader = torch.utils.data.DataLoader(testset, batch_size=4,\n",
        "                                         shuffle=False, num_workers=0)\n",
        "\n",
        "classes = ('plane', 'car', 'bird', 'cat',\n",
        "           'deer', 'dog', 'frog', 'horse', 'ship', 'truck')"
      ],
      "execution_count": 18,
      "outputs": [
        {
          "output_type": "stream",
          "text": [
            "Files already downloaded and verified\n",
            "Files already downloaded and verified\n"
          ],
          "name": "stdout"
        }
      ]
    },
    {
      "cell_type": "code",
      "metadata": {
        "id": "DxnRwUKCMRUg",
        "colab_type": "code",
        "colab": {}
      },
      "source": [
        "# import matplotlib.pyplot as plt\n",
        "# import numpy as np\n",
        "# %matplotlib inline\n",
        "# # functions to show an image\n",
        "\n",
        "\n",
        "# def imshow(img):\n",
        "#     img = img / 2 + 0.5     # unnormalize\n",
        "#     npimg = img.numpy()\n",
        "#     plt.imshow(np.transpose(npimg, (1, 2, 0)))\n",
        "#     plt.show()\n",
        "\n",
        "\n",
        "# # get some random training images\n",
        "# dataiter = iter(trainloader)\n",
        "# images, labels = dataiter.next()\n",
        "# vis.images(images/2 + 0.5)\n",
        "\n",
        "# # show images\n",
        "# #imshow(torchvision.utils.make_grid(images))\n",
        "\n",
        "# # print labels\n",
        "# print(' '.join('%5s' % classes[labels[j]] for j in range(4)))"
      ],
      "execution_count": 0,
      "outputs": []
    },
    {
      "cell_type": "markdown",
      "metadata": {
        "id": "AlQV1g4EMRUl",
        "colab_type": "text"
      },
      "source": [
        "## make VGG16 using vgg.py"
      ]
    },
    {
      "cell_type": "code",
      "metadata": {
        "id": "M32Q559IMRUn",
        "colab_type": "code",
        "colab": {}
      },
      "source": [
        "# import vgg\n",
        "import torchvision.models.vgg as vgg"
      ],
      "execution_count": 0,
      "outputs": []
    },
    {
      "cell_type": "code",
      "metadata": {
        "id": "h9ya3-TvMRUr",
        "colab_type": "code",
        "colab": {}
      },
      "source": [
        "cfg = [32,32,'M', 64,64,128,128,128,'M',256,256,256,512,512,512,'M'] #13 + 3 =vgg16"
      ],
      "execution_count": 0,
      "outputs": []
    },
    {
      "cell_type": "code",
      "metadata": {
        "id": "0SHB1QUiMRUt",
        "colab_type": "code",
        "colab": {}
      },
      "source": [
        "class VGG(nn.Module):\n",
        "\n",
        "    def __init__(self, features, num_classes=1000, init_weights=True):\n",
        "        super(VGG, self).__init__()\n",
        "        self.features = features\n",
        "        #self.avgpool = nn.AdaptiveAvgPool2d((7, 7))\n",
        "        self.classifier = nn.Sequential(\n",
        "            nn.Linear(512 * 4 * 4, 4096),\n",
        "            nn.ReLU(True),\n",
        "            nn.Dropout(),\n",
        "            nn.Linear(4096, 4096),\n",
        "            nn.ReLU(True),\n",
        "            nn.Dropout(),\n",
        "            nn.Linear(4096, num_classes),\n",
        "        )\n",
        "        if init_weights:\n",
        "            self._initialize_weights()\n",
        "\n",
        "    def forward(self, x):\n",
        "        x = self.features(x)\n",
        "        #x = self.avgpool(x)\n",
        "        x = x.view(x.size(0), -1)\n",
        "        x = self.classifier(x)\n",
        "        return x\n",
        "\n",
        "    def _initialize_weights(self):\n",
        "        for m in self.modules():\n",
        "            if isinstance(m, nn.Conv2d):\n",
        "                nn.init.kaiming_normal_(m.weight, mode='fan_out', nonlinearity='relu')\n",
        "                if m.bias is not None:\n",
        "                    nn.init.constant_(m.bias, 0)\n",
        "            elif isinstance(m, nn.BatchNorm2d):\n",
        "                nn.init.constant_(m.weight, 1)\n",
        "                nn.init.constant_(m.bias, 0)\n",
        "            elif isinstance(m, nn.Linear):\n",
        "                nn.init.normal_(m.weight, 0, 0.01)\n",
        "                nn.init.constant_(m.bias, 0)"
      ],
      "execution_count": 0,
      "outputs": []
    },
    {
      "cell_type": "code",
      "metadata": {
        "id": "ZPA5zlYsMRUx",
        "colab_type": "code",
        "colab": {}
      },
      "source": [
        "vgg16= VGG(vgg.make_layers(cfg),10,True).to(device)"
      ],
      "execution_count": 0,
      "outputs": []
    },
    {
      "cell_type": "code",
      "metadata": {
        "id": "YA03EkgXMRU1",
        "colab_type": "code",
        "colab": {
          "base_uri": "https://localhost:8080/",
          "height": 68
        },
        "outputId": "967e9f20-4f39-415b-ea6f-09e9f7249bcc"
      },
      "source": [
        "a=torch.Tensor(1,3,32,32).to(device)\n",
        "out = vgg16(a)\n",
        "print(out)"
      ],
      "execution_count": 24,
      "outputs": [
        {
          "output_type": "stream",
          "text": [
            "tensor([[ 3.7634e+35,  2.4934e+35, -5.2164e+35, -1.7491e+35,  2.7326e+35,\n",
            "          8.1588e+34,  6.1067e+35,  2.8271e+35,  4.4875e+35, -8.5873e+34]],\n",
            "       device='cuda:0', grad_fn=<AddmmBackward>)\n"
          ],
          "name": "stdout"
        }
      ]
    },
    {
      "cell_type": "code",
      "metadata": {
        "id": "4XZVBmWcMRU7",
        "colab_type": "code",
        "colab": {}
      },
      "source": [
        "criterion = nn.CrossEntropyLoss().to(device)\n",
        "optimizer = torch.optim.SGD(vgg16.parameters(), lr = 0.005,momentum=0.9)\n",
        "\n",
        "lr_sche = optim.lr_scheduler.StepLR(optimizer, step_size=5, gamma=0.9)"
      ],
      "execution_count": 0,
      "outputs": []
    },
    {
      "cell_type": "markdown",
      "metadata": {
        "id": "85qXM8FDMRU-",
        "colab_type": "text"
      },
      "source": [
        "## make plot"
      ]
    },
    {
      "cell_type": "code",
      "metadata": {
        "id": "WhzdFMdQMRU_",
        "colab_type": "code",
        "colab": {}
      },
      "source": [
        "# loss_plt = vis.line(Y=torch.Tensor(1).zero_(),opts=dict(title='loss_tracker', legend=['loss'], showlegend=True))"
      ],
      "execution_count": 0,
      "outputs": []
    },
    {
      "cell_type": "markdown",
      "metadata": {
        "id": "YztB4jv-MRVH",
        "colab_type": "text"
      },
      "source": [
        "## training"
      ]
    },
    {
      "cell_type": "code",
      "metadata": {
        "scrolled": true,
        "id": "Y_s4g8okMRVI",
        "colab_type": "code",
        "colab": {
          "base_uri": "https://localhost:8080/",
          "height": 1000
        },
        "outputId": "b20ebfb0-06c4-4275-c1e7-0a599900b75f"
      },
      "source": [
        "print(len(trainloader))\n",
        "epochs = 50\n",
        "\n",
        "for epoch in range(epochs):  # loop over the dataset multiple times\n",
        "    running_loss = 0.0\n",
        "    lr_sche.step()\n",
        "    for i, data in enumerate(trainloader, 0):\n",
        "        # get the inputs\n",
        "        inputs, labels = data\n",
        "        inputs = inputs.to(device)\n",
        "        labels = labels.to(device)\n",
        "\n",
        "        # zero the parameter gradients\n",
        "        optimizer.zero_grad()\n",
        "\n",
        "        # forward + backward + optimize\n",
        "        outputs = vgg16(inputs)\n",
        "        loss = criterion(outputs, labels)\n",
        "        loss.backward()\n",
        "        optimizer.step()\n",
        "\n",
        "        # print statistics\n",
        "        running_loss += loss.item()\n",
        "        if i % 30 == 29:    # print every 30 mini-batches\n",
        "            #loss_tracker(loss_plt, torch.Tensor([running_loss/30]), torch.Tensor([i + epoch*len(trainloader) ]))\n",
        "            print('[%d, %5d] loss: %.3f' %\n",
        "                  (epoch + 1, i + 1, running_loss / 30))\n",
        "            running_loss = 0.0\n",
        "        \n",
        "\n",
        "print('Finished Training')"
      ],
      "execution_count": 27,
      "outputs": [
        {
          "output_type": "stream",
          "text": [
            "98\n",
            "[1,    30] loss: 2.302\n",
            "[1,    60] loss: 2.297\n",
            "[1,    90] loss: 2.276\n",
            "[2,    30] loss: 2.173\n",
            "[2,    60] loss: 2.083\n",
            "[2,    90] loss: 1.994\n",
            "[3,    30] loss: 1.880\n",
            "[3,    60] loss: 1.795\n",
            "[3,    90] loss: 1.710\n",
            "[4,    30] loss: 1.650\n",
            "[4,    60] loss: 1.609\n",
            "[4,    90] loss: 1.564\n",
            "[5,    30] loss: 1.506\n",
            "[5,    60] loss: 1.473\n",
            "[5,    90] loss: 1.410\n",
            "[6,    30] loss: 1.388\n",
            "[6,    60] loss: 1.364\n",
            "[6,    90] loss: 1.354\n",
            "[7,    30] loss: 1.290\n",
            "[7,    60] loss: 1.250\n",
            "[7,    90] loss: 1.243\n",
            "[8,    30] loss: 1.256\n",
            "[8,    60] loss: 1.215\n",
            "[8,    90] loss: 1.156\n",
            "[9,    30] loss: 1.128\n",
            "[9,    60] loss: 1.119\n",
            "[9,    90] loss: 1.100\n",
            "[10,    30] loss: 1.026\n",
            "[10,    60] loss: 1.027\n",
            "[10,    90] loss: 1.014\n",
            "[11,    30] loss: 0.966\n",
            "[11,    60] loss: 0.961\n",
            "[11,    90] loss: 0.962\n",
            "[12,    30] loss: 0.924\n",
            "[12,    60] loss: 0.905\n",
            "[12,    90] loss: 0.926\n",
            "[13,    30] loss: 0.861\n",
            "[13,    60] loss: 0.870\n",
            "[13,    90] loss: 0.875\n",
            "[14,    30] loss: 0.804\n",
            "[14,    60] loss: 0.824\n",
            "[14,    90] loss: 0.830\n",
            "[15,    30] loss: 0.767\n",
            "[15,    60] loss: 0.775\n",
            "[15,    90] loss: 0.781\n",
            "[16,    30] loss: 0.731\n",
            "[16,    60] loss: 0.735\n",
            "[16,    90] loss: 0.738\n",
            "[17,    30] loss: 0.683\n",
            "[17,    60] loss: 0.693\n",
            "[17,    90] loss: 0.692\n",
            "[18,    30] loss: 0.648\n",
            "[18,    60] loss: 0.651\n",
            "[18,    90] loss: 0.655\n",
            "[19,    30] loss: 0.619\n",
            "[19,    60] loss: 0.606\n",
            "[19,    90] loss: 0.618\n",
            "[20,    30] loss: 0.551\n",
            "[20,    60] loss: 0.550\n",
            "[20,    90] loss: 0.590\n",
            "[21,    30] loss: 0.526\n",
            "[21,    60] loss: 0.541\n",
            "[21,    90] loss: 0.546\n",
            "[22,    30] loss: 0.474\n",
            "[22,    60] loss: 0.493\n",
            "[22,    90] loss: 0.522\n",
            "[23,    30] loss: 0.470\n",
            "[23,    60] loss: 0.451\n",
            "[23,    90] loss: 0.464\n",
            "[24,    30] loss: 0.417\n",
            "[24,    60] loss: 0.416\n",
            "[24,    90] loss: 0.430\n",
            "[25,    30] loss: 0.360\n",
            "[25,    60] loss: 0.371\n",
            "[25,    90] loss: 0.375\n",
            "[26,    30] loss: 0.321\n",
            "[26,    60] loss: 0.338\n",
            "[26,    90] loss: 0.333\n",
            "[27,    30] loss: 0.297\n",
            "[27,    60] loss: 0.310\n",
            "[27,    90] loss: 0.327\n",
            "[28,    30] loss: 0.270\n",
            "[28,    60] loss: 0.298\n",
            "[28,    90] loss: 0.310\n",
            "[29,    30] loss: 0.261\n",
            "[29,    60] loss: 0.257\n",
            "[29,    90] loss: 0.269\n",
            "[30,    30] loss: 0.218\n",
            "[30,    60] loss: 0.190\n",
            "[30,    90] loss: 0.214\n",
            "[31,    30] loss: 0.168\n",
            "[31,    60] loss: 0.186\n",
            "[31,    90] loss: 0.190\n",
            "[32,    30] loss: 0.155\n",
            "[32,    60] loss: 0.184\n",
            "[32,    90] loss: 0.172\n",
            "[33,    30] loss: 0.129\n",
            "[33,    60] loss: 0.156\n",
            "[33,    90] loss: 0.145\n",
            "[34,    30] loss: 0.127\n",
            "[34,    60] loss: 0.114\n",
            "[34,    90] loss: 0.136\n",
            "[35,    30] loss: 0.114\n",
            "[35,    60] loss: 0.104\n",
            "[35,    90] loss: 0.115\n",
            "[36,    30] loss: 0.100\n",
            "[36,    60] loss: 0.087\n",
            "[36,    90] loss: 0.111\n",
            "[37,    30] loss: 0.078\n",
            "[37,    60] loss: 0.078\n",
            "[37,    90] loss: 0.079\n",
            "[38,    30] loss: 0.071\n",
            "[38,    60] loss: 0.068\n",
            "[38,    90] loss: 0.074\n",
            "[39,    30] loss: 0.070\n",
            "[39,    60] loss: 0.072\n",
            "[39,    90] loss: 0.067\n",
            "[40,    30] loss: 0.054\n",
            "[40,    60] loss: 0.044\n",
            "[40,    90] loss: 0.051\n",
            "[41,    30] loss: 0.055\n",
            "[41,    60] loss: 0.052\n",
            "[41,    90] loss: 0.048\n",
            "[42,    30] loss: 0.042\n",
            "[42,    60] loss: 0.048\n",
            "[42,    90] loss: 0.050\n",
            "[43,    30] loss: 0.045\n",
            "[43,    60] loss: 0.045\n",
            "[43,    90] loss: 0.046\n",
            "[44,    30] loss: 0.041\n",
            "[44,    60] loss: 0.045\n",
            "[44,    90] loss: 0.041\n",
            "[45,    30] loss: 0.034\n",
            "[45,    60] loss: 0.034\n",
            "[45,    90] loss: 0.031\n",
            "[46,    30] loss: 0.028\n",
            "[46,    60] loss: 0.025\n",
            "[46,    90] loss: 0.029\n",
            "[47,    30] loss: 0.030\n",
            "[47,    60] loss: 0.026\n",
            "[47,    90] loss: 0.027\n",
            "[48,    30] loss: 0.028\n",
            "[48,    60] loss: 0.024\n",
            "[48,    90] loss: 0.026\n",
            "[49,    30] loss: 0.022\n",
            "[49,    60] loss: 0.020\n",
            "[49,    90] loss: 0.029\n",
            "[50,    30] loss: 0.024\n",
            "[50,    60] loss: 0.020\n",
            "[50,    90] loss: 0.017\n",
            "Finished Training\n"
          ],
          "name": "stdout"
        }
      ]
    },
    {
      "cell_type": "code",
      "metadata": {
        "id": "4Ug-mHZDMRVK",
        "colab_type": "code",
        "colab": {
          "base_uri": "https://localhost:8080/",
          "height": 156
        },
        "outputId": "4ce2269f-fd5c-4004-f74b-2762e1fd8f2c"
      },
      "source": [
        "dataiter = iter(testloader)\n",
        "images, labels = dataiter.next()\n",
        "\n",
        "# print images\n",
        "imshow(torchvision.utils.make_grid(images))\n",
        "print('GroundTruth: ', ' '.join('%5s' % classes[labels[j]] for j in range(4)))"
      ],
      "execution_count": 28,
      "outputs": [
        {
          "output_type": "display_data",
          "data": {
            "image/png": "[encoded data removed]",
            "text/plain": [
              "<Figure size 432x288 with 1 Axes>"
            ]
          },
          "metadata": {
            "tags": []
          }
        },
        {
          "output_type": "stream",
          "text": [
            "GroundTruth:    cat  ship  ship plane\n"
          ],
          "name": "stdout"
        }
      ]
    },
    {
      "cell_type": "code",
      "metadata": {
        "id": "wuQVZ0cCMRVM",
        "colab_type": "code",
        "colab": {}
      },
      "source": [
        "outputs = vgg16(images.to(device))"
      ],
      "execution_count": 0,
      "outputs": []
    },
    {
      "cell_type": "code",
      "metadata": {
        "id": "GnY9UPRKMRVO",
        "colab_type": "code",
        "colab": {
          "base_uri": "https://localhost:8080/",
          "height": 34
        },
        "outputId": "6df3fb4c-0820-4f8c-b77d-72bf38f5b280"
      },
      "source": [
        "_, predicted = torch.max(outputs, 1)\n",
        "\n",
        "print('Predicted: ', ' '.join('%5s' % classes[predicted[j]]\n",
        "                              for j in range(4)))"
      ],
      "execution_count": 30,
      "outputs": [
        {
          "output_type": "stream",
          "text": [
            "Predicted:    cat  ship  ship plane\n"
          ],
          "name": "stdout"
        }
      ]
    },
    {
      "cell_type": "code",
      "metadata": {
        "id": "YIclADXiMRVS",
        "colab_type": "code",
        "colab": {
          "base_uri": "https://localhost:8080/",
          "height": 34
        },
        "outputId": "d60ff292-32fc-49ca-a92f-11f6b79b3e0b"
      },
      "source": [
        "correct = 0\n",
        "total = 0\n",
        "\n",
        "with torch.no_grad():\n",
        "    for data in testloader:\n",
        "        images, labels = data\n",
        "        images = images.to(device)\n",
        "        labels = labels.to(device)\n",
        "        outputs = vgg16(images)\n",
        "        \n",
        "        _, predicted = torch.max(outputs.data, 1)\n",
        "        \n",
        "        total += labels.size(0)\n",
        "        \n",
        "        correct += (predicted == labels).sum().item()\n",
        "\n",
        "print('Accuracy of the network on the 10000 test images: %d %%' % (\n",
        "    100 * correct / total))"
      ],
      "execution_count": 31,
      "outputs": [
        {
          "output_type": "stream",
          "text": [
            "Accuracy of the network on the 10000 test images: 76 %\n"
          ],
          "name": "stdout"
        }
      ]
    }
  ]
}