{
  "nbformat": 4,
  "nbformat_minor": 0,
  "metadata": {
    "colab": {
      "name": "CNN_structure.ipynb",
      "provenance": [],
      "collapsed_sections": [],
      "include_colab_link": true
    },
    "kernelspec": {
      "name": "python3",
      "display_name": "Python 3"
    },
    "accelerator": "GPU"
  },
  "cells": [
    {
      "cell_type": "markdown",
      "metadata": {
        "id": "view-in-github",
        "colab_type": "text"
      },
      "source": [
        "<a href=\"https://colab.research.google.com/github/jinkyukim-me/Pytorch_Class_/blob/master/CNN_structure.ipynb\" target=\"_parent\"><img src=\"https://colab.research.google.com/assets/colab-badge.svg\" alt=\"Open In Colab\"/></a>"
      ]
    },
    {
      "cell_type": "code",
      "metadata": {
        "id": "ydYXH9vNZaPM",
        "colab_type": "code",
        "colab": {}
      },
      "source": [
        "import torch\n",
        "import torch.nn as nn"
      ],
      "execution_count": 0,
      "outputs": []
    },
    {
      "cell_type": "code",
      "metadata": {
        "id": "B0GzuP8EZ8Kx",
        "colab_type": "code",
        "colab": {}
      },
      "source": [
        "inputs = torch.Tensor(1,1,28,28) #batchsize, chennel, height, width"
      ],
      "execution_count": 0,
      "outputs": []
    },
    {
      "cell_type": "code",
      "metadata": {
        "id": "7M-J4DevaQC7",
        "colab_type": "code",
        "colab": {
          "base_uri": "https://localhost:8080/",
          "height": 1000
        },
        "outputId": "12bae9bb-1bf1-43dd-d591-1a9b32f508bc"
      },
      "source": [
        "inputs"
      ],
      "execution_count": 3,
      "outputs": [
        {
          "output_type": "execute_result",
          "data": {
            "text/plain": [
              "tensor([[[[1.2732e-36, 0.0000e+00, 1.4593e-38, 0.0000e+00, 4.4715e-42,\n",
              "           0.0000e+00,        nan,        nan, 3.1950e-43, 0.0000e+00,\n",
              "           0.0000e+00, 0.0000e+00, 7.3016e+31, 2.9514e+29, 1.4607e-19,\n",
              "           1.7905e+28, 1.7287e+28, 3.3738e-12, 4.7424e+30, 1.7860e+25,\n",
              "           5.5761e-02, 1.8728e+31, 9.1041e-12, 6.2609e+22, 4.7428e+30,\n",
              "           6.0362e+28, 6.9785e+22, 7.5569e+28],\n",
              "          [4.6304e+27, 1.8613e+34, 1.8481e+31, 7.2715e+31, 6.1317e+28,\n",
              "           6.8901e+22, 4.2016e+30, 2.8739e+23, 1.1433e-32, 1.7554e+25,\n",
              "           6.9987e+22, 1.7665e+22, 4.6304e+27, 7.2151e+22, 4.6114e+24,\n",
              "           7.0292e+28, 6.9785e+22, 7.5569e+28, 4.6304e+27, 1.8613e+34,\n",
              "           1.8491e+31, 7.2715e+31, 6.1317e+28, 6.8901e+22, 4.8354e+30,\n",
              "           2.8739e+23, 5.3989e-11, 1.7895e+28],\n",
              "          [1.8062e+28, 4.6114e+24, 2.6071e+20, 1.9684e-19, 7.0072e+22,\n",
              "           7.2250e+28, 1.4607e-19, 2.9599e+21, 3.0478e+32, 2.0616e-19,\n",
              "           1.9432e-19, 1.1433e+27, 1.8064e+28, 1.8589e+34, 1.8179e+31,\n",
              "           1.8524e+28, 3.1387e-11, 2.7339e+20, 7.1109e-04, 1.3563e-19,\n",
              "           2.4696e+17, 1.0834e+24, 2.5206e-12, 7.0674e+28, 1.4607e-19,\n",
              "           7.0078e+22, 1.6483e+22, 9.1061e-33],\n",
              "          [1.3563e-19, 1.3563e-19, 4.7477e+27, 1.7184e+19, 1.4641e+37,\n",
              "           1.4879e+19, 1.4719e+37, 7.0674e+28, 1.8065e+17, 1.7111e+19,\n",
              "           1.6486e+22, 4.5610e+18, 1.6477e+22, 2.1446e-19, 1.7175e+19,\n",
              "           1.8034e+17, 1.9366e+31, 1.7159e+19, 1.1720e-19, 1.3563e-19,\n",
              "           1.3563e-19, 1.4289e-11, 9.3342e-09, 1.8161e+25, 3.0850e+32,\n",
              "           1.8993e+25, 4.5610e+18, 2.5988e+23],\n",
              "          [1.1806e+36, 7.0078e+22, 1.6878e+25, 1.6882e+25, 1.4879e+19,\n",
              "           3.6023e-12, 4.6664e+24, 1.9435e-19, 7.1441e+31, 1.6545e+22,\n",
              "           1.6020e-19, 7.7447e+31, 1.7765e+31, 2.7486e+20, 1.7589e+22,\n",
              "           1.9010e-19, 1.2414e+28, 6.6830e+22, 2.8231e+23, 4.5144e+27,\n",
              "           1.8393e+25, 2.0619e-19, 2.0535e-19, 1.1046e-32, 1.7905e+28,\n",
              "           1.4605e-19, 1.9349e-19, 7.1441e+31],\n",
              "          [9.4048e+08, 1.9008e-19, 5.0849e+31, 1.2708e+31, 1.9438e-19,\n",
              "           1.2708e+31, 2.7486e+20, 1.7237e+25, 1.8888e+31, 2.0196e-19,\n",
              "           7.1441e+31, 1.6942e+25, 6.6532e-33, 1.8492e+31, 7.2708e+31,\n",
              "           1.9349e-19, 2.9767e+29, 1.9367e+31, 2.7881e-12, 1.6618e-19,\n",
              "           1.9349e-19, 2.9564e+21, 1.1626e+27, 5.4975e+31, 7.0308e+28,\n",
              "           6.9785e+22, 4.8354e+30, 2.8739e+23],\n",
              "          [1.8812e+31, 1.8037e+28, 2.6219e+20, 1.0997e-32, 6.1216e-04,\n",
              "           4.8419e+30, 1.8389e+25, 1.0901e+27, 1.7260e+25, 1.4770e-19,\n",
              "           7.7447e+31, 1.6942e+25, 7.7783e+31, 3.0059e+32, 7.3997e+20,\n",
              "           1.9069e-19, 1.8888e+31, 3.2543e+33, 1.9690e-19, 7.7130e+31,\n",
              "           4.5144e+27, 1.8393e+25, 4.2842e+28, 1.8370e+25, 9.3363e-09,\n",
              "           7.1463e+22, 1.8179e+31, 1.8469e+25],\n",
              "          [5.0834e+31, 3.1770e+30, 2.0022e-19, 1.9349e-19, 1.0646e+24,\n",
              "           4.4651e+30, 7.0292e+28, 1.8526e+28, 1.9366e+31, 1.9519e-19,\n",
              "           2.9393e+29, 1.1960e-32, 1.0951e+21, 3.4596e-12, 1.7589e+22,\n",
              "           7.1940e+28, 1.9348e-19, 7.2719e+22, 2.0700e-19, 1.7858e+31,\n",
              "           6.4600e+19, 1.7905e+28, 1.7287e+28, 2.0110e-19, 5.1053e+19,\n",
              "           1.7237e+25, 1.8888e+31, 1.8891e+31],\n",
              "          [7.3988e+31, 2.9602e+29, 1.8524e+28, 7.6724e+34, 1.1178e+21,\n",
              "           2.7953e+20, 1.2416e+28, 6.6830e+22, 2.8231e+23, 2.6451e+20,\n",
              "           1.1259e+24, 7.1427e+31, 1.1836e+22, 1.7751e+28, 1.8524e+28,\n",
              "           6.5610e+05, 2.1459e+20, 9.2489e-04, 4.7424e+30, 1.7860e+25,\n",
              "           6.5831e+19, 2.0618e-19, 2.0701e-19, 3.9901e+19, 3.0719e+32,\n",
              "           3.1886e-12, 1.7564e+25, 7.3697e+28],\n",
              "          [1.0901e+27, 1.8181e+31, 6.8608e+22, 1.8179e+31, 2.0703e-19,\n",
              "           1.1841e+22, 1.7226e+22, 1.9603e-19, 3.2544e+33, 1.1192e-32,\n",
              "           7.1441e+31, 2.5246e+17, 7.6833e+31, 4.7608e+30, 1.1599e+36,\n",
              "           1.4725e+37, 6.7232e+08, 7.3041e+19, 2.0282e-19, 7.1435e+31,\n",
              "           6.8608e+22, 7.0964e+22, 7.5632e+28, 1.8470e+31, 1.8017e+25,\n",
              "           7.8657e+34, 1.4822e+11, 4.8617e+30],\n",
              "          [5.0849e+31, 3.1770e+30, 2.0022e-19, 1.9349e-19, 1.9432e-19,\n",
              "           1.0646e+24, 4.4651e+30, 2.7685e+20, 2.0621e-19, 6.8308e+22,\n",
              "           4.5439e+30, 2.0615e-19, 1.9434e-19, 1.8888e+31, 4.9656e+28,\n",
              "           4.6114e+24, 2.8031e+20, 1.0965e+31, 7.0948e+22, 1.9519e-19,\n",
              "           7.7447e+31, 1.6942e+25, 7.7783e+31, 6.6532e-33, 1.9432e-19,\n",
              "           7.2734e+22, 1.9435e-19, 5.0833e+31],\n",
              "          [2.0618e-19, 4.3988e+21, 1.8524e+28, 2.0618e-19, 1.8987e+28,\n",
              "           7.4513e+37, 4.4721e+21, 2.7529e+23, 5.1035e-11, 3.9572e-11,\n",
              "           7.5878e+31, 8.9666e-33, 1.3563e-19, 2.0535e-19, 1.2271e+01,\n",
              "           1.7753e+28, 1.9208e+31, 1.7418e+28, 1.4452e+13, 4.1577e+21,\n",
              "           1.2119e+25, 1.9421e+31, 1.8936e+23, 2.9597e+21, 3.4063e+12,\n",
              "           2.7259e+20, 5.0849e+31, 3.0098e+29],\n",
              "          [1.9346e-19, 1.1726e-19, 3.1716e+30, 2.6453e+20, 1.1045e+27,\n",
              "           3.0693e+32, 1.8061e+28, 1.2680e+04, 6.9987e+22, 1.7665e+22,\n",
              "           1.8502e+28, 1.7753e+28, 1.9208e+31, 1.9519e-19, 7.0062e+22,\n",
              "           7.0997e+28, 4.8408e+30, 1.8672e+25, 1.2709e+31, 1.1047e-32,\n",
              "           1.3563e-19, 2.8149e+23, 4.8607e+30, 7.2251e+28, 6.8797e+11,\n",
              "           6.1186e-04, 8.7889e-04, 2.8970e+23],\n",
              "          [2.1473e+29, 1.3550e-11, 4.2951e+24, 1.8934e+23, 3.1035e+27,\n",
              "           1.9435e-19, 2.8177e+20, 2.0619e-19, 3.0305e+24, 5.0854e+31,\n",
              "           1.3556e-19, 7.3387e+28, 7.5642e+28, 1.7418e+28, 7.0292e+28,\n",
              "           7.5036e+28, 4.6114e+24, 2.6186e+20, 5.2161e-11, 3.9572e-11,\n",
              "           4.4658e+30, 1.1259e+24, 1.1708e-19, 1.0248e+04, 1.6045e+02,\n",
              "           5.0812e+31, 7.5338e+28, 1.4607e-19],\n",
              "          [1.8492e+31, 7.2708e+31, 1.9349e-19, 2.9598e+21, 7.1558e+22,\n",
              "           7.6734e+34, 1.1530e+27, 1.1415e+33, 2.7256e+20, 1.9433e-19,\n",
              "           4.6168e+24, 5.3294e+07, 1.6886e+31, 1.3556e-19, 2.1974e+23,\n",
              "           8.6758e-04, 4.7429e+30, 8.0431e+20, 6.9474e+22, 5.5341e-11,\n",
              "           5.3756e-11, 2.5762e+20, 1.1286e+27, 6.9768e+22, 7.5553e+28,\n",
              "           6.8589e+22, 1.2121e+25, 1.3443e+07],\n",
              "          [1.8470e+31, 1.8889e+31, 1.1431e+27, 8.3967e-33, 1.1440e+24,\n",
              "           1.7751e+28, 8.9773e-33, 1.3563e-19, 3.0478e+32, 2.8884e+12,\n",
              "           7.5338e+28, 1.5769e-19, 1.9432e-19, 3.0478e+32, 7.2054e+22,\n",
              "           4.7428e+30, 1.9519e-19, 7.7591e+26, 7.7130e+31, 7.1377e+31,\n",
              "           5.3740e+19, 1.7905e+28, 1.7287e+28, 6.8429e+19, 7.9714e-13,\n",
              "           6.4619e+19, 1.3563e-19, 1.3563e-19],\n",
              "          [4.5144e+27, 1.8393e+25, 1.1721e-32, 1.3563e-19, 1.7905e+28,\n",
              "           1.7287e+28, 2.0110e-19, 7.5555e+31, 5.0778e+31, 1.2410e+28,\n",
              "           6.6830e+22, 2.8231e+23, 4.5144e+27, 1.8393e+25, 2.0619e-19,\n",
              "           4.7351e+22, 1.9684e-19, 1.7905e+28, 8.3982e-33, 1.3563e-19,\n",
              "           1.3563e-19, 7.7447e+31, 1.7765e+31, 2.7486e+20, 1.7589e+22,\n",
              "           1.9010e-19, 2.0192e-19, 7.6726e+34],\n",
              "          [1.9430e-19, 9.3233e-09, 2.0535e-19, 1.3556e-19, 7.3696e+28,\n",
              "           1.0901e+27, 1.6932e+22, 6.9992e+28, 1.4605e-19, 1.8469e+25,\n",
              "           1.0901e+27, 2.9557e+21, 4.8415e+30, 2.0619e-19, 7.2702e+31,\n",
              "           2.0532e-19, 3.1777e+30, 4.8617e+30, 7.3697e+28, 1.0901e+27,\n",
              "           1.6932e+22, 1.8179e+31, 1.9365e+31, 1.3556e-19, 1.3563e-19,\n",
              "           5.7886e+22, 1.1866e+27, 4.6183e+19],\n",
              "          [1.0894e+27, 6.4678e+19, 6.1993e+22, 1.8759e+28, 1.1708e-19,\n",
              "           2.7509e+12, 7.5338e+28, 1.0014e+01, 1.7753e+28, 2.0535e-19,\n",
              "           7.5563e+31, 1.8014e+25, 5.0834e+31, 2.9588e+21, 1.1626e+27,\n",
              "           5.4975e+31, 7.0308e+28, 6.9785e+22, 6.1317e+28, 6.8901e+22,\n",
              "           4.8354e+30, 2.8739e+23, 2.0113e-19, 3.0854e+32, 6.6664e-33,\n",
              "           4.3612e+27, 8.7518e-04, 1.1692e-19],\n",
              "          [1.5637e-01, 8.6868e-18, 1.0997e+21, 4.2965e+24, 9.3361e-09,\n",
              "           1.2680e+04, 1.3556e-19, 1.8567e-01, 2.1017e-19, 7.5553e+28,\n",
              "           5.2839e-11, 1.7589e+22, 2.5602e-12, 1.4586e-19, 1.1703e-19,\n",
              "           1.5637e-01, 5.0783e+31, 4.2964e+24, 7.3016e+31, 1.4609e-19,\n",
              "           1.1703e-19, 5.0746e+31, 7.5338e+28, 6.1687e+16, 4.0058e-11,\n",
              "           2.7302e-06, 2.3301e-09, 4.2891e-08],\n",
              "          [8.2990e-33, 1.3563e-19, 1.3563e-19, 1.3563e-19, 1.0091e-08,\n",
              "           1.7089e-04, 9.1048e-12, 1.1038e-05, 3.1435e-12, 1.3563e-19,\n",
              "           1.3563e-19, 1.3563e-19, 1.8561e-19, 1.0740e-05, 1.4586e-19,\n",
              "           6.3376e-10, 8.3403e+17, 6.6528e-33, 1.3563e-19, 1.3563e-19,\n",
              "           1.3563e-19, 2.5227e-09, 2.6660e-09, 1.3567e-19, 2.7296e-06,\n",
              "           3.1433e-12, 1.3563e-19, 1.3563e-19],\n",
              "          [1.3563e-19, 1.2456e-11, 4.3912e-05, 1.4587e-19, 1.0140e-08,\n",
              "           8.0258e+17, 1.3556e-19, 1.3563e-19, 1.3563e-19, 4.5071e+16,\n",
              "           1.0139e-08, 2.5893e-12, 4.0058e-11, 4.3914e-05, 8.2991e-33,\n",
              "           1.3563e-19, 1.3563e-19, 1.3563e-19, 1.8580e-19, 1.7660e-04,\n",
              "           1.4588e-19, 6.4890e-07, 7.9799e+17, 1.3556e-19, 1.3563e-19,\n",
              "           1.3563e-19, 4.5071e+16, 6.4899e-07],\n",
              "          [2.6034e-12, 4.1411e-11, 2.7002e-06, 1.1704e-19, 1.3563e-19,\n",
              "           1.3563e-19, 1.3563e-19, 4.0501e-11, 6.7882e-07, 1.4913e-07,\n",
              "           2.6080e-09, 3.1458e-12, 1.3556e-19, 1.3563e-19, 1.3563e-19,\n",
              "           6.1678e+16, 6.3379e-10, 2.5469e-12, 4.0274e-11, 1.0490e-08,\n",
              "           1.1704e-19, 1.3563e-19, 1.3563e-19, 1.3563e-19, 4.0285e-11,\n",
              "           1.0563e-05, 1.0077e-08, 4.2007e-05],\n",
              "          [8.2990e-33, 1.3563e-19, 1.3563e-19, 1.3563e-19, 9.3339e-09,\n",
              "           4.2483e-05, 1.3567e-19, 4.3116e-08, 9.9627e+17, 1.1703e-19,\n",
              "           1.5637e-01, 8.6868e-18, 7.1427e+31, 1.6927e+22, 1.6618e-19,\n",
              "           1.0221e-32, 1.3563e-19, 1.6114e-19, 4.4721e+21, 2.7175e+23,\n",
              "           3.5265e-12, 8.1463e-33, 1.3563e-19, 1.8888e+31, 4.7414e+16,\n",
              "           2.3335e-09, 4.2729e-05, 1.3567e-19],\n",
              "          [4.2482e-05, 3.1437e-12, 1.3563e-19, 1.3563e-19, 1.3563e-19,\n",
              "           1.2456e-11, 4.2243e-05, 1.4585e-19, 2.5957e-06, 8.0715e+17,\n",
              "           1.3556e-19, 1.3563e-19, 1.3563e-19, 4.5071e+16, 1.6223e-07,\n",
              "           2.5466e-12, 4.0046e-11, 1.0860e-05, 8.2991e-33, 1.3563e-19,\n",
              "           1.3563e-19, 1.3563e-19, 1.2469e-11, 2.6947e-09, 1.4587e-19,\n",
              "           6.4892e-07, 8.0706e+17, 1.3556e-19],\n",
              "          [1.3563e-19, 1.3563e-19, 4.5071e+16, 1.6613e-04, 2.5466e-12,\n",
              "           4.0513e-11, 6.6291e-10, 1.1704e-19, 1.3563e-19, 1.3563e-19,\n",
              "           1.3563e-19, 4.0274e-11, 4.2729e-05, 1.0077e-08, 1.0490e-08,\n",
              "           3.1458e-12, 1.3556e-19, 1.3563e-19, 1.3563e-19, 6.1678e+16,\n",
              "           4.1530e-05, 2.5609e-12, 4.0058e-11, 6.6291e-10, 1.1704e-19,\n",
              "           1.3563e-19, 1.3563e-19, 1.3563e-19],\n",
              "          [4.0501e-11, 6.5922e-10, 5.8253e-10, 6.7007e-10, 8.2990e-33,\n",
              "           1.3563e-19, 1.3563e-19, 1.3563e-19, 2.3335e-09, 1.0502e-05,\n",
              "           9.1048e-12, 1.0799e-05, 9.9628e+17, 1.1692e-19, 1.3563e-19,\n",
              "           1.3563e-19, 4.5071e+16, 4.0058e-11, 2.6076e-09, 9.3205e-09,\n",
              "           2.6225e-09, 8.2990e-33, 1.3563e-19, 1.3563e-19, 1.3563e-19,\n",
              "           6.3067e-10, 1.0502e-05, 9.1048e-12],\n",
              "          [1.0663e-08, 3.1436e-12, 1.3563e-19, 1.3563e-19, 1.3563e-19,\n",
              "           1.2456e-11, 4.2184e-08, 1.4586e-19, 6.3372e-10, 8.3417e+17,\n",
              "           8.1546e-33, 1.3563e-19, 1.6114e-19, 4.4591e+30, 4.8411e+30,\n",
              "           2.1129e-19, 1.0951e+21, 4.9656e+28, 2.6071e+20, 1.9684e-19,\n",
              "           7.0072e+22, 7.2250e+28, 1.4607e-19, 1.0257e+04, 1.1717e-19,\n",
              "           1.5637e-01, 1.3000e+34, 5.0782e+31]]]])"
            ]
          },
          "metadata": {
            "tags": []
          },
          "execution_count": 3
        }
      ]
    },
    {
      "cell_type": "code",
      "metadata": {
        "id": "2vjTV9JpaR21",
        "colab_type": "code",
        "colab": {
          "base_uri": "https://localhost:8080/",
          "height": 34
        },
        "outputId": "75004726-b55c-4751-ad08-abfb5dd70f40"
      },
      "source": [
        "inputs.shape"
      ],
      "execution_count": 4,
      "outputs": [
        {
          "output_type": "execute_result",
          "data": {
            "text/plain": [
              "torch.Size([1, 1, 28, 28])"
            ]
          },
          "metadata": {
            "tags": []
          },
          "execution_count": 4
        }
      ]
    },
    {
      "cell_type": "code",
      "metadata": {
        "id": "AFMagH3_aohJ",
        "colab_type": "code",
        "colab": {}
      },
      "source": [
        "conv1 = nn.Conv2d(1, 32, kernel_size=3, padding=1) # in_chennel, out_chennel, kernel_size, stride, padding"
      ],
      "execution_count": 0,
      "outputs": []
    },
    {
      "cell_type": "code",
      "metadata": {
        "id": "fBVrIN7bbMA2",
        "colab_type": "code",
        "colab": {}
      },
      "source": [
        "pool = nn.MaxPool2d(2)"
      ],
      "execution_count": 0,
      "outputs": []
    },
    {
      "cell_type": "code",
      "metadata": {
        "id": "_DVbEt5vbhB3",
        "colab_type": "code",
        "colab": {
          "base_uri": "https://localhost:8080/",
          "height": 34
        },
        "outputId": "50cc4df1-4430-4eb6-c83a-26a31a04c213"
      },
      "source": [
        "pool"
      ],
      "execution_count": 14,
      "outputs": [
        {
          "output_type": "execute_result",
          "data": {
            "text/plain": [
              "MaxPool2d(kernel_size=2, stride=2, padding=0, dilation=1, ceil_mode=False)"
            ]
          },
          "metadata": {
            "tags": []
          },
          "execution_count": 14
        }
      ]
    },
    {
      "cell_type": "code",
      "metadata": {
        "id": "HNy-R-4AcBqQ",
        "colab_type": "code",
        "colab": {}
      },
      "source": [
        "conv2 = nn.Conv2d(32, 64, kernel_size=3, padding=1)"
      ],
      "execution_count": 0,
      "outputs": []
    },
    {
      "cell_type": "code",
      "metadata": {
        "id": "YXIEYyYighRo",
        "colab_type": "code",
        "colab": {
          "base_uri": "https://localhost:8080/",
          "height": 34
        },
        "outputId": "2780d434-3dfd-4768-c17e-f9372d300809"
      },
      "source": [
        "inputs.shape"
      ],
      "execution_count": 19,
      "outputs": [
        {
          "output_type": "execute_result",
          "data": {
            "text/plain": [
              "torch.Size([1, 1, 28, 28])"
            ]
          },
          "metadata": {
            "tags": []
          },
          "execution_count": 19
        }
      ]
    },
    {
      "cell_type": "code",
      "metadata": {
        "id": "bNPEIp_efeN9",
        "colab_type": "code",
        "colab": {
          "base_uri": "https://localhost:8080/",
          "height": 34
        },
        "outputId": "796f1f20-3e95-430f-b308-d078a5c4151f"
      },
      "source": [
        "conv1"
      ],
      "execution_count": 16,
      "outputs": [
        {
          "output_type": "execute_result",
          "data": {
            "text/plain": [
              "Conv2d(1, 32, kernel_size=(3, 3), stride=(1, 1), padding=(1, 1))"
            ]
          },
          "metadata": {
            "tags": []
          },
          "execution_count": 16
        }
      ]
    },
    {
      "cell_type": "code",
      "metadata": {
        "id": "ETZgYZSYfkSk",
        "colab_type": "code",
        "colab": {
          "base_uri": "https://localhost:8080/",
          "height": 34
        },
        "outputId": "f71385ac-f1f4-4f70-91e8-12df80707da8"
      },
      "source": [
        "conv2"
      ],
      "execution_count": 17,
      "outputs": [
        {
          "output_type": "execute_result",
          "data": {
            "text/plain": [
              "Conv2d(32, 64, kernel_size=(3, 3), stride=(1, 1), padding=(1, 1))"
            ]
          },
          "metadata": {
            "tags": []
          },
          "execution_count": 17
        }
      ]
    },
    {
      "cell_type": "code",
      "metadata": {
        "id": "itNrunB1fmVG",
        "colab_type": "code",
        "colab": {}
      },
      "source": [
        "out = conv1(inputs)"
      ],
      "execution_count": 0,
      "outputs": []
    },
    {
      "cell_type": "code",
      "metadata": {
        "id": "UJNe_Px2uofO",
        "colab_type": "code",
        "colab": {
          "base_uri": "https://localhost:8080/",
          "height": 34
        },
        "outputId": "1f0eb5b7-bbef-4c50-da09-80442fbe56db"
      },
      "source": [
        "out.shape"
      ],
      "execution_count": 29,
      "outputs": [
        {
          "output_type": "execute_result",
          "data": {
            "text/plain": [
              "torch.Size([1, 32, 28, 28])"
            ]
          },
          "metadata": {
            "tags": []
          },
          "execution_count": 29
        }
      ]
    },
    {
      "cell_type": "code",
      "metadata": {
        "id": "pWWoZ53uup7M",
        "colab_type": "code",
        "colab": {}
      },
      "source": [
        "out = pool(out)"
      ],
      "execution_count": 0,
      "outputs": []
    },
    {
      "cell_type": "code",
      "metadata": {
        "id": "kdcU6lg3uzHz",
        "colab_type": "code",
        "colab": {
          "base_uri": "https://localhost:8080/",
          "height": 34
        },
        "outputId": "d2b4c5b6-c425-4206-c6dc-e95568d938d5"
      },
      "source": [
        "out.shape"
      ],
      "execution_count": 31,
      "outputs": [
        {
          "output_type": "execute_result",
          "data": {
            "text/plain": [
              "torch.Size([1, 32, 14, 14])"
            ]
          },
          "metadata": {
            "tags": []
          },
          "execution_count": 31
        }
      ]
    },
    {
      "cell_type": "code",
      "metadata": {
        "id": "dFyz7Zdau0lm",
        "colab_type": "code",
        "colab": {}
      },
      "source": [
        "out = conv2(out)"
      ],
      "execution_count": 0,
      "outputs": []
    },
    {
      "cell_type": "code",
      "metadata": {
        "id": "MR1EM0vvvD89",
        "colab_type": "code",
        "colab": {
          "base_uri": "https://localhost:8080/",
          "height": 34
        },
        "outputId": "840ebe11-9c04-4d2f-b691-293ce5bfdce7"
      },
      "source": [
        "out.shape"
      ],
      "execution_count": 33,
      "outputs": [
        {
          "output_type": "execute_result",
          "data": {
            "text/plain": [
              "torch.Size([1, 64, 14, 14])"
            ]
          },
          "metadata": {
            "tags": []
          },
          "execution_count": 33
        }
      ]
    },
    {
      "cell_type": "code",
      "metadata": {
        "id": "93wJkAojvEoQ",
        "colab_type": "code",
        "colab": {}
      },
      "source": [
        "out = pool(out)"
      ],
      "execution_count": 0,
      "outputs": []
    },
    {
      "cell_type": "code",
      "metadata": {
        "id": "l93A5D7BvHTY",
        "colab_type": "code",
        "colab": {
          "base_uri": "https://localhost:8080/",
          "height": 34
        },
        "outputId": "2852b762-3ca9-4ca4-8130-24e6aa10137d"
      },
      "source": [
        "out.shape"
      ],
      "execution_count": 38,
      "outputs": [
        {
          "output_type": "execute_result",
          "data": {
            "text/plain": [
              "torch.Size([1, 64, 7, 7])"
            ]
          },
          "metadata": {
            "tags": []
          },
          "execution_count": 38
        }
      ]
    },
    {
      "cell_type": "code",
      "metadata": {
        "id": "bbZKXcF1vTA1",
        "colab_type": "code",
        "colab": {
          "base_uri": "https://localhost:8080/",
          "height": 34
        },
        "outputId": "42ec66db-586a-4cb2-a13b-a7ad65bb9ca1"
      },
      "source": [
        "out.size(0)"
      ],
      "execution_count": 41,
      "outputs": [
        {
          "output_type": "execute_result",
          "data": {
            "text/plain": [
              "1"
            ]
          },
          "metadata": {
            "tags": []
          },
          "execution_count": 41
        }
      ]
    },
    {
      "cell_type": "code",
      "metadata": {
        "id": "A18ms--hvfdq",
        "colab_type": "code",
        "colab": {
          "base_uri": "https://localhost:8080/",
          "height": 34
        },
        "outputId": "e255e9ff-7a54-40c9-b543-e68a739be2ab"
      },
      "source": [
        "out.size(1)"
      ],
      "execution_count": 42,
      "outputs": [
        {
          "output_type": "execute_result",
          "data": {
            "text/plain": [
              "64"
            ]
          },
          "metadata": {
            "tags": []
          },
          "execution_count": 42
        }
      ]
    },
    {
      "cell_type": "code",
      "metadata": {
        "id": "hv5zH3shvmaG",
        "colab_type": "code",
        "colab": {
          "base_uri": "https://localhost:8080/",
          "height": 34
        },
        "outputId": "5472292e-d066-4813-fa11-5fb067d7402c"
      },
      "source": [
        "out.size(2)"
      ],
      "execution_count": 43,
      "outputs": [
        {
          "output_type": "execute_result",
          "data": {
            "text/plain": [
              "7"
            ]
          },
          "metadata": {
            "tags": []
          },
          "execution_count": 43
        }
      ]
    },
    {
      "cell_type": "code",
      "metadata": {
        "id": "n37_5zdpvnk7",
        "colab_type": "code",
        "colab": {
          "base_uri": "https://localhost:8080/",
          "height": 34
        },
        "outputId": "54cbd45c-11a3-4778-efa9-5686eb6ad93a"
      },
      "source": [
        "out.size(3)"
      ],
      "execution_count": 44,
      "outputs": [
        {
          "output_type": "execute_result",
          "data": {
            "text/plain": [
              "7"
            ]
          },
          "metadata": {
            "tags": []
          },
          "execution_count": 44
        }
      ]
    },
    {
      "cell_type": "code",
      "metadata": {
        "id": "Ip7sif37vpmV",
        "colab_type": "code",
        "colab": {}
      },
      "source": [
        "out = out.view(out.size(0), -1)"
      ],
      "execution_count": 0,
      "outputs": []
    },
    {
      "cell_type": "code",
      "metadata": {
        "id": "0gMVVBZ5v2z7",
        "colab_type": "code",
        "colab": {
          "base_uri": "https://localhost:8080/",
          "height": 34
        },
        "outputId": "75006c03-0cfb-490a-e595-8da867550dea"
      },
      "source": [
        "out.shape"
      ],
      "execution_count": 47,
      "outputs": [
        {
          "output_type": "execute_result",
          "data": {
            "text/plain": [
              "torch.Size([1, 3136])"
            ]
          },
          "metadata": {
            "tags": []
          },
          "execution_count": 47
        }
      ]
    },
    {
      "cell_type": "code",
      "metadata": {
        "id": "MyLpt9ZVv3uO",
        "colab_type": "code",
        "colab": {}
      },
      "source": [
        "fc = nn.Linear(3136,10)"
      ],
      "execution_count": 0,
      "outputs": []
    },
    {
      "cell_type": "code",
      "metadata": {
        "id": "D16LVrcvwIow",
        "colab_type": "code",
        "colab": {}
      },
      "source": [
        "out = fc(out)"
      ],
      "execution_count": 0,
      "outputs": []
    },
    {
      "cell_type": "code",
      "metadata": {
        "id": "-52ohdqmwKzq",
        "colab_type": "code",
        "colab": {
          "base_uri": "https://localhost:8080/",
          "height": 51
        },
        "outputId": "ec56d749-e5bd-4de4-9f70-64c56800aa6c"
      },
      "source": [
        "out"
      ],
      "execution_count": 50,
      "outputs": [
        {
          "output_type": "execute_result",
          "data": {
            "text/plain": [
              "tensor([[nan, nan, nan, nan, nan, nan, nan, nan, nan, nan]],\n",
              "       grad_fn=<AddmmBackward>)"
            ]
          },
          "metadata": {
            "tags": []
          },
          "execution_count": 50
        }
      ]
    },
    {
      "cell_type": "code",
      "metadata": {
        "id": "oPKUFVMTwMMj",
        "colab_type": "code",
        "colab": {
          "base_uri": "https://localhost:8080/",
          "height": 34
        },
        "outputId": "38ba9903-4f86-4873-fcce-e13e4e04ccff"
      },
      "source": [
        "out.shape"
      ],
      "execution_count": 51,
      "outputs": [
        {
          "output_type": "execute_result",
          "data": {
            "text/plain": [
              "torch.Size([1, 10])"
            ]
          },
          "metadata": {
            "tags": []
          },
          "execution_count": 51
        }
      ]
    },
    {
      "cell_type": "markdown",
      "metadata": {
        "id": "HgrlU1rO-DmI",
        "colab_type": "text"
      },
      "source": [
        "### Fully_Connect layer => (input=3136, output 10)"
      ]
    },
    {
      "cell_type": "code",
      "metadata": {
        "id": "YBBetcil-NuK",
        "colab_type": "code",
        "colab": {}
      },
      "source": [
        ""
      ],
      "execution_count": 0,
      "outputs": []
    }
  ]
}